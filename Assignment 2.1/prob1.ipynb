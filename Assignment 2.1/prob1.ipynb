{
 "cells": [
  {
   "cell_type": "markdown",
   "id": "db8c98f0",
   "metadata": {},
   "source": [
    "Manual TF-IDF Implementation:"
   ]
  },
  {
   "cell_type": "code",
   "execution_count": 24,
   "id": "8ab1576e",
   "metadata": {},
   "outputs": [],
   "source": [
    "import math"
   ]
  },
  {
   "cell_type": "code",
   "execution_count": 25,
   "id": "9863b81c",
   "metadata": {},
   "outputs": [],
   "source": [
    "corpus = [\n",
    "    'the sun is a star',\n",
    "    'the moon is a satellite',\n",
    "    'the sun and moon are celestial bodies'\n",
    "]"
   ]
  },
  {
   "cell_type": "code",
   "execution_count": 26,
   "id": "206670fd",
   "metadata": {},
   "outputs": [
    {
     "data": {
      "text/plain": [
       "[['the', 'sun', 'is', 'a', 'star'],\n",
       " ['the', 'moon', 'is', 'a', 'satellite'],\n",
       " ['the', 'sun', 'and', 'moon', 'are', 'celestial', 'bodies']]"
      ]
     },
     "execution_count": 26,
     "metadata": {},
     "output_type": "execute_result"
    }
   ],
   "source": [
    "words = [doc.lower().split() for doc in corpus]\n",
    "words"
   ]
  },
  {
   "cell_type": "code",
   "execution_count": 27,
   "id": "ef3f8851",
   "metadata": {},
   "outputs": [],
   "source": [
    "def compute_tf(doc):\n",
    "    tf = {}\n",
    "    for word in doc:\n",
    "        tf[word] = tf.get(word, 0) + 1\n",
    "    total_words = len(doc)\n",
    "    for word in tf:\n",
    "        tf[word] /= total_words\n",
    "    return tf\n",
    "\n",
    "tf_list = [compute_tf(doc) for doc in words]\n"
   ]
  },
  {
   "cell_type": "code",
   "execution_count": 28,
   "id": "c4157f63",
   "metadata": {},
   "outputs": [],
   "source": [
    "def compute_idf(corpus):\n",
    "    N = len(corpus)\n",
    "    all_words = set(word for doc in corpus for word in doc)\n",
    "    idf = {}\n",
    "    for word in all_words:\n",
    "        count = sum(1 for doc in corpus if word in doc)\n",
    "        idf[word] = math.log(N / (count))\n",
    "    return idf\n",
    "\n",
    "idf = compute_idf(words)\n"
   ]
  },
  {
   "cell_type": "code",
   "execution_count": 29,
   "id": "b21a8217",
   "metadata": {},
   "outputs": [],
   "source": [
    "def compute_tfidf(tf, idf):\n",
    "    tfidf = {}\n",
    "    for word, val in tf.items():\n",
    "        tfidf[word] = val * idf[word]\n",
    "    return tfidf\n",
    "\n",
    "tfidf_list = [compute_tfidf(tf, idf) for tf in tf_list]"
   ]
  },
  {
   "cell_type": "code",
   "execution_count": 30,
   "id": "0121dc61",
   "metadata": {},
   "outputs": [
    {
     "data": {
      "text/plain": [
       "[{'the': 0.0,\n",
       "  'sun': 0.08109302162163289,\n",
       "  'is': 0.08109302162163289,\n",
       "  'a': 0.08109302162163289,\n",
       "  'star': 0.21972245773362198},\n",
       " {'the': 0.0,\n",
       "  'moon': 0.08109302162163289,\n",
       "  'is': 0.08109302162163289,\n",
       "  'a': 0.08109302162163289,\n",
       "  'satellite': 0.21972245773362198},\n",
       " {'the': 0.0,\n",
       "  'sun': 0.05792358687259491,\n",
       "  'and': 0.15694461266687282,\n",
       "  'moon': 0.05792358687259491,\n",
       "  'are': 0.15694461266687282,\n",
       "  'celestial': 0.15694461266687282,\n",
       "  'bodies': 0.15694461266687282}]"
      ]
     },
     "execution_count": 30,
     "metadata": {},
     "output_type": "execute_result"
    }
   ],
   "source": [
    "tfidf_list"
   ]
  },
  {
   "cell_type": "markdown",
   "id": "b1000afd",
   "metadata": {},
   "source": [
    "TF-IDF Implementation using scikit-learn's CountVectorizer and TfidfVectorizer"
   ]
  },
  {
   "cell_type": "code",
   "execution_count": 31,
   "id": "c94ee377",
   "metadata": {},
   "outputs": [],
   "source": [
    "from sklearn.feature_extraction.text import CountVectorizer, TfidfVectorizer\n",
    "import pandas as pd"
   ]
  },
  {
   "cell_type": "code",
   "execution_count": 32,
   "id": "26294e7c",
   "metadata": {},
   "outputs": [
    {
     "name": "stdout",
     "output_type": "stream",
     "text": [
      "   and  are  bodies  celestial  is  moon  satellite  star  sun  the\n",
      "0    0    0       0          0   1     0          0     1    1    1\n",
      "1    0    0       0          0   1     1          1     0    0    1\n",
      "2    1    1       1          1   0     1          0     0    1    1\n"
     ]
    }
   ],
   "source": [
    "count_vectorizer = CountVectorizer()\n",
    "\n",
    "X_count = count_vectorizer.fit_transform(corpus)\n",
    "\n",
    "df_count = pd.DataFrame(X_count.toarray(), columns=count_vectorizer.get_feature_names_out())\n",
    "\n",
    "print(df_count)"
   ]
  },
  {
   "cell_type": "code",
   "execution_count": 33,
   "id": "02c4dd3b",
   "metadata": {},
   "outputs": [
    {
     "name": "stdout",
     "output_type": "stream",
     "text": [
      "        and       are    bodies  celestial        is      moon  satellite  \\\n",
      "0  0.000000  0.000000  0.000000   0.000000  0.480458  0.000000   0.000000   \n",
      "1  0.000000  0.000000  0.000000   0.000000  0.480458  0.480458   0.631745   \n",
      "2  0.426184  0.426184  0.426184   0.426184  0.000000  0.324124   0.000000   \n",
      "\n",
      "       star       sun       the  \n",
      "0  0.631745  0.480458  0.373119  \n",
      "1  0.000000  0.000000  0.373119  \n",
      "2  0.000000  0.324124  0.251711  \n"
     ]
    }
   ],
   "source": [
    "tfidf_vectorizer = TfidfVectorizer()\n",
    "\n",
    "X_tfidf = tfidf_vectorizer.fit_transform(corpus)\n",
    "\n",
    "df_tfidf = pd.DataFrame(X_tfidf.toarray(), columns=tfidf_vectorizer.get_feature_names_out())\n",
    "\n",
    "print(df_tfidf)\n"
   ]
  }
 ],
 "metadata": {
  "kernelspec": {
   "display_name": "Python 3",
   "language": "python",
   "name": "python3"
  },
  "language_info": {
   "codemirror_mode": {
    "name": "ipython",
    "version": 3
   },
   "file_extension": ".py",
   "mimetype": "text/x-python",
   "name": "python",
   "nbconvert_exporter": "python",
   "pygments_lexer": "ipython3",
   "version": "3.12.4"
  }
 },
 "nbformat": 4,
 "nbformat_minor": 5
}
