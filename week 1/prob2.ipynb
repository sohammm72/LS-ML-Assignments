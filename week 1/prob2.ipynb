{
 "cells": [
  {
   "cell_type": "markdown",
   "id": "125d75ad",
   "metadata": {},
   "source": [
    "Problem 2"
   ]
  },
  {
   "cell_type": "markdown",
   "id": "665cf669",
   "metadata": {},
   "source": [
    "Create a 1-dimensional NumPy array of 20 random floats between 0 and 10:"
   ]
  },
  {
   "cell_type": "code",
   "execution_count": 54,
   "id": "297fb2ee",
   "metadata": {},
   "outputs": [
    {
     "name": "stdout",
     "output_type": "stream",
     "text": [
      "<class 'numpy.ndarray'>\n"
     ]
    }
   ],
   "source": [
    "import numpy as np\n",
    "import random\n",
    "\n",
    "a = np.array([random.uniform(0,10) for _ in range(20)])\n",
    "print(type(a))"
   ]
  },
  {
   "cell_type": "markdown",
   "id": "cf0f28ca",
   "metadata": {},
   "source": [
    "(a) Print the array and round all elements to two decimal places:"
   ]
  },
  {
   "cell_type": "code",
   "execution_count": 55,
   "id": "cecef75a",
   "metadata": {},
   "outputs": [
    {
     "name": "stdout",
     "output_type": "stream",
     "text": [
      "[5.48, 9.83, 1.16, 7.54, 3.31, 3.42, 3.72, 1.12, 6.95, 6.56, 3.33, 1.8, 6.36, 6.68, 3.33, 7.86, 0.24, 0.54, 4.64, 9.5]\n"
     ]
    }
   ],
   "source": [
    "b = [float(round(num,2)) for num in a]\n",
    "print(b)"
   ]
  },
  {
   "cell_type": "markdown",
   "id": "eb307f72",
   "metadata": {},
   "source": [
    "(b) Calculate and print the minimum, maximum, and median of the array:"
   ]
  },
  {
   "cell_type": "code",
   "execution_count": 56,
   "id": "1fe8fee4",
   "metadata": {},
   "outputs": [
    {
     "name": "stdout",
     "output_type": "stream",
     "text": [
      "Minimum of array: 0.24\n",
      "Maximum of array: 9.83\n",
      "Median of array: 4.18\n"
     ]
    }
   ],
   "source": [
    "a = np.array(b)\n",
    "print(f\"Minimum of array: {np.min(a)}\")\n",
    "print(f\"Maximum of array: {np.max(a)}\")\n",
    "print(f\"Median of array: {np.median(a)}\")"
   ]
  },
  {
   "cell_type": "markdown",
   "id": "6a0fe668",
   "metadata": {},
   "source": [
    "(c) Replace all elements less than 5 with their squares:"
   ]
  },
  {
   "cell_type": "code",
   "execution_count": 57,
   "id": "089656d9",
   "metadata": {},
   "outputs": [
    {
     "data": {
      "text/plain": [
       "array([ 1.3456, 10.9561, 11.6964, 13.8384,  1.2544, 11.0889,  3.24  ,\n",
       "       11.0889,  0.0576,  0.2916, 21.5296])"
      ]
     },
     "execution_count": 57,
     "metadata": {},
     "output_type": "execute_result"
    }
   ],
   "source": [
    "a = np.array([x**2 for x in a if x<5])\n",
    "a"
   ]
  },
  {
   "cell_type": "markdown",
   "id": "2723cd5c",
   "metadata": {},
   "source": [
    "(d) Write a Python function numpy_alternate_sort(array) that takes a 1D NumPy\n",
    "array and returns a new array with elements sorted in an alternating pattern (smallest,\n",
    "largest, second smallest, second largest, etc.):"
   ]
  },
  {
   "cell_type": "code",
   "execution_count": 58,
   "id": "9eb0de21",
   "metadata": {},
   "outputs": [],
   "source": [
    "def numpy_alternate_sort(array):\n",
    "    array = np.sort(array)\n",
    "    i=0\n",
    "    j=len(array)-1\n",
    "    res=[]\n",
    "    while i<j:\n",
    "        res.append(array[i])\n",
    "        i+=1\n",
    "        res.append(array[j])\n",
    "        j-=1\n",
    "    return np.array(res)"
   ]
  },
  {
   "cell_type": "code",
   "execution_count": 59,
   "id": "8c0dab04",
   "metadata": {},
   "outputs": [
    {
     "data": {
      "text/plain": [
       "array([1, 7, 2, 6, 2, 5, 2, 5, 3, 4])"
      ]
     },
     "execution_count": 59,
     "metadata": {},
     "output_type": "execute_result"
    }
   ],
   "source": [
    "numpy_alternate_sort(np.array([2,5,1,5,2,6,7,2,3,4]))"
   ]
  }
 ],
 "metadata": {
  "kernelspec": {
   "display_name": "Python 3",
   "language": "python",
   "name": "python3"
  },
  "language_info": {
   "codemirror_mode": {
    "name": "ipython",
    "version": 3
   },
   "file_extension": ".py",
   "mimetype": "text/x-python",
   "name": "python",
   "nbconvert_exporter": "python",
   "pygments_lexer": "ipython3",
   "version": "3.12.4"
  }
 },
 "nbformat": 4,
 "nbformat_minor": 5
}
