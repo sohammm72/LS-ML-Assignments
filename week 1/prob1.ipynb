{
 "cells": [
  {
   "cell_type": "markdown",
   "id": "2b4423c0",
   "metadata": {},
   "source": [
    "Problem 1"
   ]
  },
  {
   "cell_type": "markdown",
   "id": "e0b9bad4",
   "metadata": {},
   "source": [
    "Generate a 2-dimensional NumPy array of shape (5, 4):"
   ]
  },
  {
   "cell_type": "code",
   "execution_count": 1,
   "id": "d4662a44",
   "metadata": {},
   "outputs": [],
   "source": [
    "import numpy as np\n",
    "import random\n",
    "a = np.array([random.randint(1,50) for _ in range(20)])\n",
    "b = a.reshape(5,4)"
   ]
  },
  {
   "cell_type": "markdown",
   "id": "911d7f92",
   "metadata": {},
   "source": [
    "(a) Print the array and extract the elements along the anti-diagonal:"
   ]
  },
  {
   "cell_type": "code",
   "execution_count": 2,
   "id": "14b37350",
   "metadata": {},
   "outputs": [
    {
     "name": "stdout",
     "output_type": "stream",
     "text": [
      "[[23 12 44 29]\n",
      " [ 7 50 24 20]\n",
      " [13 37 39 36]\n",
      " [21 45  1 14]\n",
      " [42  3 33 49]]\n"
     ]
    }
   ],
   "source": [
    "print(b)"
   ]
  },
  {
   "cell_type": "code",
   "execution_count": 3,
   "id": "10942275",
   "metadata": {},
   "outputs": [
    {
     "name": "stdout",
     "output_type": "stream",
     "text": [
      "29\n",
      "24\n",
      "37\n",
      "21\n"
     ]
    }
   ],
   "source": [
    "row,col=0,3\n",
    "while row<5 and col>=0:\n",
    "    print(b[row][col])\n",
    "    row+=1\n",
    "    col-=1"
   ]
  },
  {
   "cell_type": "markdown",
   "id": "e0bf7a65",
   "metadata": {},
   "source": [
    "(b) Compute and print the maximum value in each row of the array:"
   ]
  },
  {
   "cell_type": "code",
   "execution_count": 4,
   "id": "313971a6",
   "metadata": {},
   "outputs": [
    {
     "name": "stdout",
     "output_type": "stream",
     "text": [
      "44\n",
      "50\n",
      "39\n",
      "45\n",
      "49\n"
     ]
    }
   ],
   "source": [
    "for row in range(5):\n",
    "    print(np.max(b[row]))"
   ]
  },
  {
   "cell_type": "markdown",
   "id": "ced0d612",
   "metadata": {},
   "source": [
    "(c) Create a new array containing only the elements less than or equal to the overall\n",
    "mean of the array:"
   ]
  },
  {
   "cell_type": "code",
   "execution_count": 5,
   "id": "5c695de5",
   "metadata": {},
   "outputs": [
    {
     "name": "stdout",
     "output_type": "stream",
     "text": [
      "[23. 12.  7. 24. 20. 13. 21.  1. 14.  3.]\n"
     ]
    }
   ],
   "source": [
    "mean = np.mean(b)\n",
    "c = np.array([])\n",
    "for num in a:\n",
    "    if num<mean:\n",
    "        c = np.append(c, num)\n",
    "print(c)"
   ]
  },
  {
   "cell_type": "markdown",
   "id": "11eef373",
   "metadata": {},
   "source": [
    "(d) Write a Python function numpy_boundary_traversal(matrix) that takes a NumPy\n",
    "matrix and returns a list of elements visited along the boundary of the array in\n",
    "clockwise order, starting from the top-left corner:"
   ]
  },
  {
   "cell_type": "code",
   "execution_count": 6,
   "id": "7bf3f9c1",
   "metadata": {},
   "outputs": [],
   "source": [
    "def numpy_boundary_traversal(matrix):\n",
    "    res = []\n",
    "    row,col = np.shape(matrix)\n",
    "    # r,c=0,0\n",
    "    res.extend(matrix[0, :col-1])\n",
    "    res.extend(matrix[:row-1, -1])\n",
    "    res.extend(matrix[-1, :0:-1])\n",
    "    res.extend(matrix[:0:-1, 0])\n",
    "    \n",
    "    res = [int(x) for x in res]\n",
    "    return res"
   ]
  },
  {
   "cell_type": "code",
   "execution_count": 7,
   "id": "bfe4ea6c",
   "metadata": {},
   "outputs": [
    {
     "data": {
      "text/plain": [
       "[23, 12, 44, 29, 20, 36, 14, 49, 33, 3, 42, 21, 13, 7]"
      ]
     },
     "execution_count": 7,
     "metadata": {},
     "output_type": "execute_result"
    }
   ],
   "source": [
    "numpy_boundary_traversal(b)"
   ]
  }
 ],
 "metadata": {
  "kernelspec": {
   "display_name": "Python 3",
   "language": "python",
   "name": "python3"
  },
  "language_info": {
   "codemirror_mode": {
    "name": "ipython",
    "version": 3
   },
   "file_extension": ".py",
   "mimetype": "text/x-python",
   "name": "python",
   "nbconvert_exporter": "python",
   "pygments_lexer": "ipython3",
   "version": "3.12.4"
  }
 },
 "nbformat": 4,
 "nbformat_minor": 5
}
